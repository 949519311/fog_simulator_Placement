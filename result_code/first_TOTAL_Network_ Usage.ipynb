{
 "cells": [
  {
   "cell_type": "code",
   "execution_count": 1,
   "id": "bfef6486",
   "metadata": {},
   "outputs": [],
   "source": [
    "import matplotlib.pyplot as plt\n",
    "import seaborn\n",
    "import pandas as pd\n",
    "import numpy as np"
   ]
  },
  {
   "cell_type": "code",
   "execution_count": 2,
   "id": "b46a755f",
   "metadata": {},
   "outputs": [
    {
     "data": {
      "text/html": [
       "<div>\n",
       "<style scoped>\n",
       "    .dataframe tbody tr th:only-of-type {\n",
       "        vertical-align: middle;\n",
       "    }\n",
       "\n",
       "    .dataframe tbody tr th {\n",
       "        vertical-align: top;\n",
       "    }\n",
       "\n",
       "    .dataframe thead th {\n",
       "        text-align: right;\n",
       "    }\n",
       "</style>\n",
       "<table border=\"1\" class=\"dataframe\">\n",
       "  <thead>\n",
       "    <tr style=\"text-align: right;\">\n",
       "      <th></th>\n",
       "      <th>خوشه</th>\n",
       "      <th>sensor</th>\n",
       "      <th>Fog node device</th>\n",
       "      <th>old TNU</th>\n",
       "      <th>TOTAL Network Usage</th>\n",
       "      <th>old AVR</th>\n",
       "      <th>AV Runtime</th>\n",
       "      <th>old TE</th>\n",
       "      <th>TOTAL Energy</th>\n",
       "      <th>old HC</th>\n",
       "      <th>cost</th>\n",
       "      <th>Reliability</th>\n",
       "      <th>Latency</th>\n",
       "      <th>Availability</th>\n",
       "    </tr>\n",
       "  </thead>\n",
       "  <tbody>\n",
       "    <tr>\n",
       "      <th>count</th>\n",
       "      <td>16.0</td>\n",
       "      <td>20.0</td>\n",
       "      <td>20.000000</td>\n",
       "      <td>2.000000e+01</td>\n",
       "      <td>20.000000</td>\n",
       "      <td>20.000000</td>\n",
       "      <td>20.000000</td>\n",
       "      <td>20.000000</td>\n",
       "      <td>20.000000</td>\n",
       "      <td>20.000000</td>\n",
       "      <td>20.000000</td>\n",
       "      <td>20.000000</td>\n",
       "      <td>20.000000</td>\n",
       "      <td>20.000000</td>\n",
       "    </tr>\n",
       "    <tr>\n",
       "      <th>mean</th>\n",
       "      <td>1.0</td>\n",
       "      <td>4.0</td>\n",
       "      <td>43.750000</td>\n",
       "      <td>3.250500e+05</td>\n",
       "      <td>45.905000</td>\n",
       "      <td>3251.250000</td>\n",
       "      <td>3.319000</td>\n",
       "      <td>53857.500000</td>\n",
       "      <td>56.091000</td>\n",
       "      <td>105287.950000</td>\n",
       "      <td>8.165500</td>\n",
       "      <td>0.731700</td>\n",
       "      <td>601.650000</td>\n",
       "      <td>0.683700</td>\n",
       "    </tr>\n",
       "    <tr>\n",
       "      <th>std</th>\n",
       "      <td>0.0</td>\n",
       "      <td>0.0</td>\n",
       "      <td>37.235912</td>\n",
       "      <td>6.187622e+05</td>\n",
       "      <td>69.127807</td>\n",
       "      <td>365.712121</td>\n",
       "      <td>0.373348</td>\n",
       "      <td>44731.474481</td>\n",
       "      <td>50.937637</td>\n",
       "      <td>63955.748621</td>\n",
       "      <td>5.887219</td>\n",
       "      <td>0.252988</td>\n",
       "      <td>1413.314666</td>\n",
       "      <td>0.258131</td>\n",
       "    </tr>\n",
       "    <tr>\n",
       "      <th>min</th>\n",
       "      <td>1.0</td>\n",
       "      <td>4.0</td>\n",
       "      <td>5.000000</td>\n",
       "      <td>2.000000e+04</td>\n",
       "      <td>2.000000</td>\n",
       "      <td>3000.000000</td>\n",
       "      <td>3.000000</td>\n",
       "      <td>7050.000000</td>\n",
       "      <td>4.500000</td>\n",
       "      <td>3038.000000</td>\n",
       "      <td>0.300000</td>\n",
       "      <td>0.220000</td>\n",
       "      <td>10.000000</td>\n",
       "      <td>0.130000</td>\n",
       "    </tr>\n",
       "    <tr>\n",
       "      <th>25%</th>\n",
       "      <td>1.0</td>\n",
       "      <td>4.0</td>\n",
       "      <td>16.250000</td>\n",
       "      <td>2.050000e+04</td>\n",
       "      <td>3.600000</td>\n",
       "      <td>3001.000000</td>\n",
       "      <td>3.007500</td>\n",
       "      <td>20512.500000</td>\n",
       "      <td>16.975000</td>\n",
       "      <td>34087.500000</td>\n",
       "      <td>3.240000</td>\n",
       "      <td>0.680000</td>\n",
       "      <td>39.250000</td>\n",
       "      <td>0.637500</td>\n",
       "    </tr>\n",
       "    <tr>\n",
       "      <th>50%</th>\n",
       "      <td>1.0</td>\n",
       "      <td>4.0</td>\n",
       "      <td>35.000000</td>\n",
       "      <td>4.050000e+04</td>\n",
       "      <td>8.200000</td>\n",
       "      <td>3008.000000</td>\n",
       "      <td>3.245000</td>\n",
       "      <td>43425.000000</td>\n",
       "      <td>31.070000</td>\n",
       "      <td>134258.000000</td>\n",
       "      <td>6.100000</td>\n",
       "      <td>0.870000</td>\n",
       "      <td>77.500000</td>\n",
       "      <td>0.720000</td>\n",
       "    </tr>\n",
       "    <tr>\n",
       "      <th>75%</th>\n",
       "      <td>1.0</td>\n",
       "      <td>4.0</td>\n",
       "      <td>62.500000</td>\n",
       "      <td>4.002500e+05</td>\n",
       "      <td>47.637500</td>\n",
       "      <td>3378.000000</td>\n",
       "      <td>3.412500</td>\n",
       "      <td>76425.000000</td>\n",
       "      <td>91.785000</td>\n",
       "      <td>166541.000000</td>\n",
       "      <td>14.595000</td>\n",
       "      <td>0.882500</td>\n",
       "      <td>253.750000</td>\n",
       "      <td>0.892500</td>\n",
       "    </tr>\n",
       "    <tr>\n",
       "      <th>max</th>\n",
       "      <td>1.0</td>\n",
       "      <td>4.0</td>\n",
       "      <td>100.000000</td>\n",
       "      <td>2.050000e+06</td>\n",
       "      <td>205.000000</td>\n",
       "      <td>4127.000000</td>\n",
       "      <td>4.130000</td>\n",
       "      <td>121650.000000</td>\n",
       "      <td>169.540000</td>\n",
       "      <td>174066.000000</td>\n",
       "      <td>17.410000</td>\n",
       "      <td>0.970000</td>\n",
       "      <td>6010.000000</td>\n",
       "      <td>0.950000</td>\n",
       "    </tr>\n",
       "  </tbody>\n",
       "</table>\n",
       "</div>"
      ],
      "text/plain": [
       "       خوشه  sensor  Fog node device       old TNU  TOTAL Network Usage  \\\n",
       "count  16.0    20.0        20.000000  2.000000e+01            20.000000   \n",
       "mean    1.0     4.0        43.750000  3.250500e+05            45.905000   \n",
       "std     0.0     0.0        37.235912  6.187622e+05            69.127807   \n",
       "min     1.0     4.0         5.000000  2.000000e+04             2.000000   \n",
       "25%     1.0     4.0        16.250000  2.050000e+04             3.600000   \n",
       "50%     1.0     4.0        35.000000  4.050000e+04             8.200000   \n",
       "75%     1.0     4.0        62.500000  4.002500e+05            47.637500   \n",
       "max     1.0     4.0       100.000000  2.050000e+06           205.000000   \n",
       "\n",
       "           old AVR  AV Runtime         old TE  TOTAL Energy         old HC  \\\n",
       "count    20.000000   20.000000      20.000000     20.000000      20.000000   \n",
       "mean   3251.250000    3.319000   53857.500000     56.091000  105287.950000   \n",
       "std     365.712121    0.373348   44731.474481     50.937637   63955.748621   \n",
       "min    3000.000000    3.000000    7050.000000      4.500000    3038.000000   \n",
       "25%    3001.000000    3.007500   20512.500000     16.975000   34087.500000   \n",
       "50%    3008.000000    3.245000   43425.000000     31.070000  134258.000000   \n",
       "75%    3378.000000    3.412500   76425.000000     91.785000  166541.000000   \n",
       "max    4127.000000    4.130000  121650.000000    169.540000  174066.000000   \n",
       "\n",
       "            cost  Reliability      Latency  Availability  \n",
       "count  20.000000    20.000000    20.000000     20.000000  \n",
       "mean    8.165500     0.731700   601.650000      0.683700  \n",
       "std     5.887219     0.252988  1413.314666      0.258131  \n",
       "min     0.300000     0.220000    10.000000      0.130000  \n",
       "25%     3.240000     0.680000    39.250000      0.637500  \n",
       "50%     6.100000     0.870000    77.500000      0.720000  \n",
       "75%    14.595000     0.882500   253.750000      0.892500  \n",
       "max    17.410000     0.970000  6010.000000      0.950000  "
      ]
     },
     "execution_count": 2,
     "metadata": {},
     "output_type": "execute_result"
    }
   ],
   "source": [
    "data = pd.read_excel(\"scenario.xlsx\",sheet_name = 'first', index_col= False)\n",
    "data.describe()"
   ]
  },
  {
   "cell_type": "code",
   "execution_count": 3,
   "id": "75957755",
   "metadata": {},
   "outputs": [],
   "source": [
    "x = [5,20,50,100]\n",
    "x = np.asarray(x)\n",
    "y = data['TOTAL Network Usage']\n",
    "N =4\n",
    "ind = np.arange(N)  # the x locations for the groups\n",
    "width = 0.27       # the width of the bars"
   ]
  },
  {
   "cell_type": "code",
   "execution_count": 4,
   "id": "8a55b040",
   "metadata": {},
   "outputs": [
    {
     "data": {
      "image/png": "[encoded data removed]",
      "text/plain": [
       "<Figure size 640x480 with 1 Axes>"
      ]
     },
     "metadata": {},
     "output_type": "display_data"
    }
   ],
   "source": [
    "csfont = {'fontname':'Times New Roman'}\n",
    "\n",
    "ax = plt.subplot(111)\n",
    "ax.bar(ind-.07, y[:4], width=0.14, color='#264653', align='center')\n",
    "ax.bar(ind+.07, y[4:8], width=0.14, color='#2a9d8f', align='center')\n",
    "ax.bar(ind+.21, y[8:12], width=0.14, color='#e9c46a', align='center')\n",
    "ax.bar(ind+0.35, y[12:16], width=0.14, color='#f4a261', align='center')\n",
    "ax.bar(ind+0.49, y[16:], width=0.14, color='#A45C40', align='center')\n",
    "\n",
    "ax.set_xticks(ind+0.2)\n",
    "ax.set_xticklabels( ('5 Nodes', '20 Nodes', '50 Nodes', '100 Nodes'),**csfont)\n",
    "ax.set_ylabel(\"TOTAL Network Usage(kb)\",**csfont)\n",
    "ax.set_xlabel(\"Number of fog nodes\",**csfont)\n",
    "ax.legend(('Proposed method', 'Context', 'Full replica', 'One replica','BBO Replica'),title='Algoritms', loc='upper left', ncols=1,bbox_to_anchor=(1,1))\n",
    "for c in ax.containers:\n",
    "    # set the bar label\n",
    "    ax.bar_label(c, fmt='%.0f', label_type='edge',rotation=90,**csfont)\n",
    "\n",
    "\n",
    "ax.autoscale(tight=True)\n",
    "ax.set_title(\"Number of sensors =4\",**csfont)\n",
    "ax.margins(0, 0)\n",
    "# Get the y limits\n",
    "#ymin, ymax = min(y), max(y)\n",
    "\n",
    "# Set the y limits making the maximum 5% greater\n",
    "#plt.ylim(ymin, 1.005 * ymax)\n",
    "#y.plot(kind='line', marker='*', color='black', ms=.1)\n",
    "plt.savefig('first_TOTAL_Network_Usage.png', dpi=300, bbox_inches='tight') \n",
    "plt.show()"
   ]
  },
  {
   "cell_type": "code",
   "execution_count": 12,
   "id": "a1eb6200",
   "metadata": {},
   "outputs": [
    {
     "name": "stdout",
     "output_type": "stream",
     "text": [
      "<class 'numpy.ndarray'>\n"
     ]
    }
   ],
   "source": [
    "import datetime\n",
    "from matplotlib.dates import date2num\n",
    "x = [\n",
    "    datetime.datetime(2011, 1, 4, 0, 0),\n",
    "    datetime.datetime(2011, 1, 5, 0, 0),\n",
    "    datetime.datetime(2011, 1, 6, 0, 0)\n",
    "]\n",
    "x = date2num(x)\n",
    "print (type(x))"
   ]
  },
  {
   "cell_type": "code",
   "execution_count": 13,
   "id": "3112f82d",
   "metadata": {},
   "outputs": [
    {
     "name": "stdout",
     "output_type": "stream",
     "text": [
      "Index(['خوشه', 'سنسور', 'Fog node device', 'الگوریتم', 'old TNU',\n",
      "       'TOTAL Network Usage', 'oldAVR', 'AV Runtime', 'old TE', 'TOTAL Energy',\n",
      "       'old HC', ' Hardware Cost', 'Reliability', 'Latency', 'Availability',\n",
      "       'تعداد کپی'],\n",
      "      dtype='object')\n"
     ]
    }
   ],
   "source": [
    "print (data.columns)"
   ]
  },
  {
   "cell_type": "code",
   "execution_count": 7,
   "id": "cd8495f8",
   "metadata": {},
   "outputs": [
    {
     "name": "stdout",
     "output_type": "stream",
     "text": [
      "Requirement already satisfied: matplotlib in c:\\users\\my_home\\anaconda3\\lib\\site-packages (3.8.0)\n",
      "Requirement already satisfied: contourpy>=1.0.1 in c:\\users\\my_home\\anaconda3\\lib\\site-packages (from matplotlib) (1.2.0)\n",
      "Requirement already satisfied: cycler>=0.10 in c:\\users\\my_home\\anaconda3\\lib\\site-packages (from matplotlib) (0.11.0)\n",
      "Requirement already satisfied: fonttools>=4.22.0 in c:\\users\\my_home\\anaconda3\\lib\\site-packages (from matplotlib) (4.25.0)\n",
      "Requirement already satisfied: kiwisolver>=1.0.1 in c:\\users\\my_home\\anaconda3\\lib\\site-packages (from matplotlib) (1.4.4)\n",
      "Requirement already satisfied: numpy<2,>=1.21 in c:\\users\\my_home\\anaconda3\\lib\\site-packages (from matplotlib) (1.26.4)\n",
      "Requirement already satisfied: packaging>=20.0 in c:\\users\\my_home\\anaconda3\\lib\\site-packages (from matplotlib) (23.1)\n",
      "Requirement already satisfied: pillow>=6.2.0 in c:\\users\\my_home\\anaconda3\\lib\\site-packages (from matplotlib) (10.2.0)\n",
      "Requirement already satisfied: pyparsing>=2.3.1 in c:\\users\\my_home\\anaconda3\\lib\\site-packages (from matplotlib) (3.0.9)\n",
      "Requirement already satisfied: python-dateutil>=2.7 in c:\\users\\my_home\\anaconda3\\lib\\site-packages (from matplotlib) (2.8.2)\n",
      "Requirement already satisfied: six>=1.5 in c:\\users\\my_home\\anaconda3\\lib\\site-packages (from python-dateutil>=2.7->matplotlib) (1.16.0)\n"
     ]
    }
   ],
   "source": [
    "!pip install matplotlib"
   ]
  },
  {
   "cell_type": "code",
   "execution_count": 8,
   "id": "47079c68-a18c-4162-8bdb-c8a9de7c476f",
   "metadata": {},
   "outputs": [
    {
     "name": "stdout",
     "output_type": "stream",
     "text": [
      "Requirement already satisfied: numpy in c:\\users\\my_home\\anaconda3\\lib\\site-packages (1.26.4)\n"
     ]
    }
   ],
   "source": [
    "!pip install numpy"
   ]
  },
  {
   "cell_type": "code",
   "execution_count": null,
   "id": "94b6f9b0-1b7d-4399-91fd-68f5c350c5d4",
   "metadata": {},
   "outputs": [],
   "source": []
  }
 ],
 "metadata": {
  "kernelspec": {
   "display_name": "Python 3 (ipykernel)",
   "language": "python",
   "name": "python3"
  },
  "language_info": {
   "codemirror_mode": {
    "name": "ipython",
    "version": 3
   },
   "file_extension": ".py",
   "mimetype": "text/x-python",
   "name": "python",
   "nbconvert_exporter": "python",
   "pygments_lexer": "ipython3",
   "version": "3.11.7"
  }
 },
 "nbformat": 4,
 "nbformat_minor": 5
}
