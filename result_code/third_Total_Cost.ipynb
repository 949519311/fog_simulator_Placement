{
 "cells": [
  {
   "cell_type": "code",
   "execution_count": 1,
   "id": "bfef6486",
   "metadata": {},
   "outputs": [],
   "source": [
    "import matplotlib.pyplot as plt\n",
    "import seaborn\n",
    "import pandas as pd\n",
    "import numpy as np"
   ]
  },
  {
   "cell_type": "code",
   "execution_count": 2,
   "id": "b46a755f",
   "metadata": {},
   "outputs": [
    {
     "data": {
      "text/html": [
       "<div>\n",
       "<style scoped>\n",
       "    .dataframe tbody tr th:only-of-type {\n",
       "        vertical-align: middle;\n",
       "    }\n",
       "\n",
       "    .dataframe tbody tr th {\n",
       "        vertical-align: top;\n",
       "    }\n",
       "\n",
       "    .dataframe thead th {\n",
       "        text-align: right;\n",
       "    }\n",
       "</style>\n",
       "<table border=\"1\" class=\"dataframe\">\n",
       "  <thead>\n",
       "    <tr style=\"text-align: right;\">\n",
       "      <th></th>\n",
       "      <th>خوشه</th>\n",
       "      <th>sensor</th>\n",
       "      <th>Fog node device</th>\n",
       "      <th>old TNU</th>\n",
       "      <th>TOTAL Network Usage</th>\n",
       "      <th>old AVR</th>\n",
       "      <th>AV Runtime</th>\n",
       "      <th>old TE</th>\n",
       "      <th>TOTAL Energy</th>\n",
       "      <th>old HC</th>\n",
       "      <th>cost</th>\n",
       "      <th>Reliability</th>\n",
       "      <th>Latency</th>\n",
       "      <th>Availability</th>\n",
       "    </tr>\n",
       "  </thead>\n",
       "  <tbody>\n",
       "    <tr>\n",
       "      <th>count</th>\n",
       "      <td>16.0</td>\n",
       "      <td>20.0</td>\n",
       "      <td>20.000000</td>\n",
       "      <td>2.000000e+01</td>\n",
       "      <td>20.000000</td>\n",
       "      <td>20.000000</td>\n",
       "      <td>20.000000</td>\n",
       "      <td>20.000000</td>\n",
       "      <td>20.000000</td>\n",
       "      <td>2.000000e+01</td>\n",
       "      <td>20.000000</td>\n",
       "      <td>20.00000</td>\n",
       "      <td>20.000000</td>\n",
       "      <td>20.000000</td>\n",
       "    </tr>\n",
       "    <tr>\n",
       "      <th>mean</th>\n",
       "      <td>1.0</td>\n",
       "      <td>30.0</td>\n",
       "      <td>43.750000</td>\n",
       "      <td>2.492800e+06</td>\n",
       "      <td>324.238500</td>\n",
       "      <td>14522.850000</td>\n",
       "      <td>16.468500</td>\n",
       "      <td>140393.000000</td>\n",
       "      <td>177.705500</td>\n",
       "      <td>5.899185e+05</td>\n",
       "      <td>65.230000</td>\n",
       "      <td>0.75200</td>\n",
       "      <td>884.003000</td>\n",
       "      <td>0.665500</td>\n",
       "    </tr>\n",
       "    <tr>\n",
       "      <th>std</th>\n",
       "      <td>0.0</td>\n",
       "      <td>0.0</td>\n",
       "      <td>37.235912</td>\n",
       "      <td>3.520163e+06</td>\n",
       "      <td>357.948894</td>\n",
       "      <td>22913.716219</td>\n",
       "      <td>22.667196</td>\n",
       "      <td>124776.444854</td>\n",
       "      <td>154.532051</td>\n",
       "      <td>5.640417e+05</td>\n",
       "      <td>54.047693</td>\n",
       "      <td>0.22975</td>\n",
       "      <td>2150.702821</td>\n",
       "      <td>0.246843</td>\n",
       "    </tr>\n",
       "    <tr>\n",
       "      <th>min</th>\n",
       "      <td>1.0</td>\n",
       "      <td>30.0</td>\n",
       "      <td>5.000000</td>\n",
       "      <td>2.000000e+04</td>\n",
       "      <td>12.600000</td>\n",
       "      <td>3000.000000</td>\n",
       "      <td>3.630000</td>\n",
       "      <td>7350.000000</td>\n",
       "      <td>23.560000</td>\n",
       "      <td>1.164660e+05</td>\n",
       "      <td>11.650000</td>\n",
       "      <td>0.30000</td>\n",
       "      <td>16.000000</td>\n",
       "      <td>0.130000</td>\n",
       "    </tr>\n",
       "    <tr>\n",
       "      <th>25%</th>\n",
       "      <td>1.0</td>\n",
       "      <td>30.0</td>\n",
       "      <td>16.250000</td>\n",
       "      <td>1.293750e+05</td>\n",
       "      <td>51.020000</td>\n",
       "      <td>3642.500000</td>\n",
       "      <td>3.902500</td>\n",
       "      <td>46987.500000</td>\n",
       "      <td>38.860000</td>\n",
       "      <td>1.776082e+05</td>\n",
       "      <td>28.855000</td>\n",
       "      <td>0.70250</td>\n",
       "      <td>30.750000</td>\n",
       "      <td>0.657500</td>\n",
       "    </tr>\n",
       "    <tr>\n",
       "      <th>50%</th>\n",
       "      <td>1.0</td>\n",
       "      <td>30.0</td>\n",
       "      <td>35.000000</td>\n",
       "      <td>6.987500e+05</td>\n",
       "      <td>149.300000</td>\n",
       "      <td>3915.000000</td>\n",
       "      <td>6.530000</td>\n",
       "      <td>103775.000000</td>\n",
       "      <td>133.700000</td>\n",
       "      <td>3.129895e+05</td>\n",
       "      <td>49.445000</td>\n",
       "      <td>0.87000</td>\n",
       "      <td>88.820000</td>\n",
       "      <td>0.700000</td>\n",
       "    </tr>\n",
       "    <tr>\n",
       "      <th>75%</th>\n",
       "      <td>1.0</td>\n",
       "      <td>30.0</td>\n",
       "      <td>62.500000</td>\n",
       "      <td>3.662125e+06</td>\n",
       "      <td>530.112500</td>\n",
       "      <td>20005.500000</td>\n",
       "      <td>23.177500</td>\n",
       "      <td>175275.000000</td>\n",
       "      <td>265.127500</td>\n",
       "      <td>6.818372e+05</td>\n",
       "      <td>77.730000</td>\n",
       "      <td>0.90250</td>\n",
       "      <td>272.000000</td>\n",
       "      <td>0.860000</td>\n",
       "    </tr>\n",
       "    <tr>\n",
       "      <th>max</th>\n",
       "      <td>1.0</td>\n",
       "      <td>30.0</td>\n",
       "      <td>100.000000</td>\n",
       "      <td>1.161500e+07</td>\n",
       "      <td>1161.500000</td>\n",
       "      <td>103588.000000</td>\n",
       "      <td>103.590000</td>\n",
       "      <td>508700.000000</td>\n",
       "      <td>541.600000</td>\n",
       "      <td>1.920327e+06</td>\n",
       "      <td>192.030000</td>\n",
       "      <td>0.97000</td>\n",
       "      <td>8900.000000</td>\n",
       "      <td>0.910000</td>\n",
       "    </tr>\n",
       "  </tbody>\n",
       "</table>\n",
       "</div>"
      ],
      "text/plain": [
       "       خوشه  sensor  Fog node device       old TNU  TOTAL Network Usage  \\\n",
       "count  16.0    20.0        20.000000  2.000000e+01            20.000000   \n",
       "mean    1.0    30.0        43.750000  2.492800e+06           324.238500   \n",
       "std     0.0     0.0        37.235912  3.520163e+06           357.948894   \n",
       "min     1.0    30.0         5.000000  2.000000e+04            12.600000   \n",
       "25%     1.0    30.0        16.250000  1.293750e+05            51.020000   \n",
       "50%     1.0    30.0        35.000000  6.987500e+05           149.300000   \n",
       "75%     1.0    30.0        62.500000  3.662125e+06           530.112500   \n",
       "max     1.0    30.0       100.000000  1.161500e+07          1161.500000   \n",
       "\n",
       "             old AVR  AV Runtime         old TE  TOTAL Energy        old HC  \\\n",
       "count      20.000000   20.000000      20.000000     20.000000  2.000000e+01   \n",
       "mean    14522.850000   16.468500  140393.000000    177.705500  5.899185e+05   \n",
       "std     22913.716219   22.667196  124776.444854    154.532051  5.640417e+05   \n",
       "min      3000.000000    3.630000    7350.000000     23.560000  1.164660e+05   \n",
       "25%      3642.500000    3.902500   46987.500000     38.860000  1.776082e+05   \n",
       "50%      3915.000000    6.530000  103775.000000    133.700000  3.129895e+05   \n",
       "75%     20005.500000   23.177500  175275.000000    265.127500  6.818372e+05   \n",
       "max    103588.000000  103.590000  508700.000000    541.600000  1.920327e+06   \n",
       "\n",
       "             cost  Reliability      Latency  Availability  \n",
       "count   20.000000     20.00000    20.000000     20.000000  \n",
       "mean    65.230000      0.75200   884.003000      0.665500  \n",
       "std     54.047693      0.22975  2150.702821      0.246843  \n",
       "min     11.650000      0.30000    16.000000      0.130000  \n",
       "25%     28.855000      0.70250    30.750000      0.657500  \n",
       "50%     49.445000      0.87000    88.820000      0.700000  \n",
       "75%     77.730000      0.90250   272.000000      0.860000  \n",
       "max    192.030000      0.97000  8900.000000      0.910000  "
      ]
     },
     "execution_count": 2,
     "metadata": {},
     "output_type": "execute_result"
    }
   ],
   "source": [
    "data = pd.read_excel(\"scenario.xlsx\",sheet_name = 'third', index_col= False)\n",
    "data.describe()"
   ]
  },
  {
   "cell_type": "code",
   "execution_count": 3,
   "id": "75957755",
   "metadata": {},
   "outputs": [],
   "source": [
    "x = [5,20,50,100]\n",
    "x = np.asarray(x)\n",
    "y = data['cost']\n",
    "N =4\n",
    "ind = np.arange(N)  # the x locations for the groups\n",
    "width = 0.37       # the width of the bars"
   ]
  },
  {
   "cell_type": "code",
   "execution_count": 4,
   "id": "8a55b040",
   "metadata": {},
   "outputs": [
    {
     "data": {
      "image/png": "[encoded data removed]",
      "text/plain": [
       "<Figure size 640x480 with 1 Axes>"
      ]
     },
     "metadata": {},
     "output_type": "display_data"
    }
   ],
   "source": [
    "csfont = {'fontname':'Times New Roman'}\n",
    "\n",
    "ax = plt.subplot(111)\n",
    "ax.bar(ind-.07, y[:4], width=0.14, color='#264653', align='center')\n",
    "ax.bar(ind+.07, y[4:8], width=0.14, color='#2a9d8f', align='center')\n",
    "ax.bar(ind+.21, y[8:12], width=0.14, color='#e9c46a', align='center')\n",
    "ax.bar(ind+0.35, y[12:16], width=0.14, color='#f4a261', align='center')\n",
    "ax.bar(ind+0.49, y[16:], width=0.14, color='#A45C40', align='center')\n",
    "ax.set_xticks(ind+0.2)\n",
    "ax.set_xticklabels( ('5 Nodes', '20 Nodes', '50 Nodes', '100 Nodes'),**csfont)\n",
    "ax.set_ylabel(\"Total Cost (Kb)\",**csfont)\n",
    "ax.set_xlabel(\"Number of fog nodes\",**csfont)\n",
    "ax.legend(('Proposed method', 'Context', 'Full replica', 'One replica','BBO Replica'),title='Algoritms', loc='upper left', ncols=1,bbox_to_anchor=(1,1))\n",
    "for c in ax.containers:\n",
    "    # set the bar label\n",
    "    ax.bar_label(c, fmt='%0.0f', label_type='edge',rotation=90,**csfont)\n",
    "\n",
    "\n",
    "ax.autoscale(tight=True)\n",
    "ax.set_title(\"Number of sensors =30\",**csfont)\n",
    "ax.margins(0, 0)\n",
    "# Get the y limits\n",
    "#ymin, ymax = min(y), max(y)\n",
    "\n",
    "# Set the y limits making the maximum 5% greater\n",
    "#plt.ylim(ymin, 1.005 * ymax)\n",
    "#y.plot(kind='line', marker='*', color='black', ms=.1)\n",
    "\n",
    "\n",
    "\n",
    "\n",
    "plt.savefig('third_Total_Cost.png', dpi=300, bbox_inches='tight') \n",
    "plt.show()"
   ]
  },
  {
   "cell_type": "code",
   "execution_count": 148,
   "id": "a1eb6200",
   "metadata": {},
   "outputs": [
    {
     "name": "stdout",
     "output_type": "stream",
     "text": [
      "<class 'numpy.ndarray'>\n"
     ]
    }
   ],
   "source": [
    "import datetime\n",
    "from matplotlib.dates import date2num\n",
    "x = [\n",
    "    datetime.datetime(2011, 1, 4, 0, 0),\n",
    "    datetime.datetime(2011, 1, 5, 0, 0),\n",
    "    datetime.datetime(2011, 1, 6, 0, 0)\n",
    "]\n",
    "x = date2num(x)\n",
    "print (type(x))"
   ]
  },
  {
   "cell_type": "code",
   "execution_count": 73,
   "id": "3112f82d",
   "metadata": {},
   "outputs": [
    {
     "name": "stdout",
     "output_type": "stream",
     "text": [
      "Index(['خوشه', 'سنسور', 'Fog node device', 'الگوریتم', 'TOTAL Network Usage',\n",
      "       'AV Runtime', 'TOTAL Energy', ' Hardware Cost', 'Reliability',\n",
      "       'Latency', 'Availability', 'تعداد کپی'],\n",
      "      dtype='object')\n"
     ]
    }
   ],
   "source": [
    "print (data.columns)"
   ]
  },
  {
   "cell_type": "code",
   "execution_count": 55,
   "id": "cd8495f8",
   "metadata": {},
   "outputs": [
    {
     "name": "stdout",
     "output_type": "stream",
     "text": [
      "Requirement already satisfied: matplotlib in c:\\users\\my_home\\anaconda3\\lib\\site-packages (3.8.0)\n",
      "Requirement already satisfied: contourpy>=1.0.1 in c:\\users\\my_home\\anaconda3\\lib\\site-packages (from matplotlib) (1.2.0)\n",
      "Requirement already satisfied: cycler>=0.10 in c:\\users\\my_home\\anaconda3\\lib\\site-packages (from matplotlib) (0.11.0)\n",
      "Requirement already satisfied: fonttools>=4.22.0 in c:\\users\\my_home\\anaconda3\\lib\\site-packages (from matplotlib) (4.25.0)\n",
      "Requirement already satisfied: kiwisolver>=1.0.1 in c:\\users\\my_home\\anaconda3\\lib\\site-packages (from matplotlib) (1.4.4)\n",
      "Requirement already satisfied: numpy<2,>=1.21 in c:\\users\\my_home\\anaconda3\\lib\\site-packages (from matplotlib) (1.26.4)\n",
      "Requirement already satisfied: packaging>=20.0 in c:\\users\\my_home\\anaconda3\\lib\\site-packages (from matplotlib) (23.1)\n",
      "Requirement already satisfied: pillow>=6.2.0 in c:\\users\\my_home\\anaconda3\\lib\\site-packages (from matplotlib) (10.2.0)\n",
      "Requirement already satisfied: pyparsing>=2.3.1 in c:\\users\\my_home\\anaconda3\\lib\\site-packages (from matplotlib) (3.0.9)\n",
      "Requirement already satisfied: python-dateutil>=2.7 in c:\\users\\my_home\\anaconda3\\lib\\site-packages (from matplotlib) (2.8.2)\n",
      "Requirement already satisfied: six>=1.5 in c:\\users\\my_home\\anaconda3\\lib\\site-packages (from python-dateutil>=2.7->matplotlib) (1.16.0)\n"
     ]
    }
   ],
   "source": [
    "!pip install matplotlib"
   ]
  },
  {
   "cell_type": "code",
   "execution_count": 26,
   "id": "47079c68-a18c-4162-8bdb-c8a9de7c476f",
   "metadata": {},
   "outputs": [
    {
     "name": "stdout",
     "output_type": "stream",
     "text": [
      "Requirement already satisfied: numpy in c:\\users\\my_home\\anaconda3\\lib\\site-packages (1.26.4)\n"
     ]
    }
   ],
   "source": [
    "!pip install numpy"
   ]
  },
  {
   "cell_type": "code",
   "execution_count": null,
   "id": "94b6f9b0-1b7d-4399-91fd-68f5c350c5d4",
   "metadata": {},
   "outputs": [],
   "source": []
  }
 ],
 "metadata": {
  "kernelspec": {
   "display_name": "Python 3 (ipykernel)",
   "language": "python",
   "name": "python3"
  },
  "language_info": {
   "codemirror_mode": {
    "name": "ipython",
    "version": 3
   },
   "file_extension": ".py",
   "mimetype": "text/x-python",
   "name": "python",
   "nbconvert_exporter": "python",
   "pygments_lexer": "ipython3",
   "version": "3.11.7"
  }
 },
 "nbformat": 4,
 "nbformat_minor": 5
}
