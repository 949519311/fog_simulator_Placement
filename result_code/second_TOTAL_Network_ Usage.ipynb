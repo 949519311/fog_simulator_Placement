{
 "cells": [
  {
   "cell_type": "code",
   "execution_count": 1,
   "id": "bfef6486",
   "metadata": {},
   "outputs": [],
   "source": [
    "import matplotlib.pyplot as plt\n",
    "import seaborn\n",
    "import pandas as pd\n",
    "import numpy as np"
   ]
  },
  {
   "cell_type": "code",
   "execution_count": 2,
   "id": "b46a755f",
   "metadata": {},
   "outputs": [
    {
     "data": {
      "text/html": [
       "<div>\n",
       "<style scoped>\n",
       "    .dataframe tbody tr th:only-of-type {\n",
       "        vertical-align: middle;\n",
       "    }\n",
       "\n",
       "    .dataframe tbody tr th {\n",
       "        vertical-align: top;\n",
       "    }\n",
       "\n",
       "    .dataframe thead th {\n",
       "        text-align: right;\n",
       "    }\n",
       "</style>\n",
       "<table border=\"1\" class=\"dataframe\">\n",
       "  <thead>\n",
       "    <tr style=\"text-align: right;\">\n",
       "      <th></th>\n",
       "      <th>خوشه</th>\n",
       "      <th>sensor</th>\n",
       "      <th>Fog node device</th>\n",
       "      <th>old TNU</th>\n",
       "      <th>TOTAL Network Usage</th>\n",
       "      <th>old AVR</th>\n",
       "      <th>AV Runtime</th>\n",
       "      <th>old TE</th>\n",
       "      <th>TOTAL Energy</th>\n",
       "      <th>old HC</th>\n",
       "      <th>cost</th>\n",
       "      <th>Reliability</th>\n",
       "      <th>Latency</th>\n",
       "      <th>Availability</th>\n",
       "    </tr>\n",
       "  </thead>\n",
       "  <tbody>\n",
       "    <tr>\n",
       "      <th>count</th>\n",
       "      <td>16.0</td>\n",
       "      <td>20.0</td>\n",
       "      <td>20.000000</td>\n",
       "      <td>2.000000e+01</td>\n",
       "      <td>20.000000</td>\n",
       "      <td>20.000000</td>\n",
       "      <td>20.00000</td>\n",
       "      <td>20.000000</td>\n",
       "      <td>20.0000</td>\n",
       "      <td>20.000000</td>\n",
       "      <td>20.0000</td>\n",
       "      <td>20.000000</td>\n",
       "      <td>20.000000</td>\n",
       "      <td>20.000000</td>\n",
       "    </tr>\n",
       "    <tr>\n",
       "      <th>mean</th>\n",
       "      <td>1.0</td>\n",
       "      <td>13.0</td>\n",
       "      <td>43.750000</td>\n",
       "      <td>6.519000e+05</td>\n",
       "      <td>87.802000</td>\n",
       "      <td>5246.100000</td>\n",
       "      <td>5.59950</td>\n",
       "      <td>67867.500000</td>\n",
       "      <td>71.3055</td>\n",
       "      <td>149878.700000</td>\n",
       "      <td>14.2330</td>\n",
       "      <td>0.725000</td>\n",
       "      <td>808.050000</td>\n",
       "      <td>0.705450</td>\n",
       "    </tr>\n",
       "    <tr>\n",
       "      <th>std</th>\n",
       "      <td>0.0</td>\n",
       "      <td>0.0</td>\n",
       "      <td>37.235912</td>\n",
       "      <td>1.095937e+06</td>\n",
       "      <td>117.072163</td>\n",
       "      <td>3139.615278</td>\n",
       "      <td>2.97166</td>\n",
       "      <td>61602.587256</td>\n",
       "      <td>63.8425</td>\n",
       "      <td>95071.303235</td>\n",
       "      <td>9.5311</td>\n",
       "      <td>0.249832</td>\n",
       "      <td>1734.034161</td>\n",
       "      <td>0.244578</td>\n",
       "    </tr>\n",
       "    <tr>\n",
       "      <th>min</th>\n",
       "      <td>1.0</td>\n",
       "      <td>13.0</td>\n",
       "      <td>5.000000</td>\n",
       "      <td>2.000000e+04</td>\n",
       "      <td>3.300000</td>\n",
       "      <td>3000.000000</td>\n",
       "      <td>3.22000</td>\n",
       "      <td>7350.000000</td>\n",
       "      <td>9.1000</td>\n",
       "      <td>28699.000000</td>\n",
       "      <td>2.8700</td>\n",
       "      <td>0.220000</td>\n",
       "      <td>10.000000</td>\n",
       "      <td>0.170000</td>\n",
       "    </tr>\n",
       "    <tr>\n",
       "      <th>25%</th>\n",
       "      <td>1.0</td>\n",
       "      <td>13.0</td>\n",
       "      <td>16.250000</td>\n",
       "      <td>3.637500e+04</td>\n",
       "      <td>5.950000</td>\n",
       "      <td>3394.250000</td>\n",
       "      <td>3.73500</td>\n",
       "      <td>23062.500000</td>\n",
       "      <td>24.4525</td>\n",
       "      <td>89853.500000</td>\n",
       "      <td>8.9825</td>\n",
       "      <td>0.675000</td>\n",
       "      <td>38.500000</td>\n",
       "      <td>0.691250</td>\n",
       "    </tr>\n",
       "    <tr>\n",
       "      <th>50%</th>\n",
       "      <td>1.0</td>\n",
       "      <td>13.0</td>\n",
       "      <td>35.000000</td>\n",
       "      <td>6.675000e+04</td>\n",
       "      <td>39.890000</td>\n",
       "      <td>3793.000000</td>\n",
       "      <td>4.42000</td>\n",
       "      <td>53575.000000</td>\n",
       "      <td>52.0900</td>\n",
       "      <td>145978.500000</td>\n",
       "      <td>12.5850</td>\n",
       "      <td>0.870000</td>\n",
       "      <td>93.000000</td>\n",
       "      <td>0.795000</td>\n",
       "    </tr>\n",
       "    <tr>\n",
       "      <th>75%</th>\n",
       "      <td>1.0</td>\n",
       "      <td>13.0</td>\n",
       "      <td>62.500000</td>\n",
       "      <td>7.780000e+05</td>\n",
       "      <td>91.230000</td>\n",
       "      <td>6196.750000</td>\n",
       "      <td>6.19750</td>\n",
       "      <td>111600.000000</td>\n",
       "      <td>116.6075</td>\n",
       "      <td>167990.000000</td>\n",
       "      <td>15.2900</td>\n",
       "      <td>0.882500</td>\n",
       "      <td>281.250000</td>\n",
       "      <td>0.870000</td>\n",
       "    </tr>\n",
       "    <tr>\n",
       "      <th>max</th>\n",
       "      <td>1.0</td>\n",
       "      <td>13.0</td>\n",
       "      <td>100.000000</td>\n",
       "      <td>3.850000e+06</td>\n",
       "      <td>385.000000</td>\n",
       "      <td>14959.000000</td>\n",
       "      <td>14.96000</td>\n",
       "      <td>241600.000000</td>\n",
       "      <td>241.6000</td>\n",
       "      <td>396808.000000</td>\n",
       "      <td>39.6800</td>\n",
       "      <td>0.940000</td>\n",
       "      <td>7010.000000</td>\n",
       "      <td>0.950000</td>\n",
       "    </tr>\n",
       "  </tbody>\n",
       "</table>\n",
       "</div>"
      ],
      "text/plain": [
       "       خوشه  sensor  Fog node device       old TNU  TOTAL Network Usage  \\\n",
       "count  16.0    20.0        20.000000  2.000000e+01            20.000000   \n",
       "mean    1.0    13.0        43.750000  6.519000e+05            87.802000   \n",
       "std     0.0     0.0        37.235912  1.095937e+06           117.072163   \n",
       "min     1.0    13.0         5.000000  2.000000e+04             3.300000   \n",
       "25%     1.0    13.0        16.250000  3.637500e+04             5.950000   \n",
       "50%     1.0    13.0        35.000000  6.675000e+04            39.890000   \n",
       "75%     1.0    13.0        62.500000  7.780000e+05            91.230000   \n",
       "max     1.0    13.0       100.000000  3.850000e+06           385.000000   \n",
       "\n",
       "            old AVR  AV Runtime         old TE  TOTAL Energy         old HC  \\\n",
       "count     20.000000    20.00000      20.000000       20.0000      20.000000   \n",
       "mean    5246.100000     5.59950   67867.500000       71.3055  149878.700000   \n",
       "std     3139.615278     2.97166   61602.587256       63.8425   95071.303235   \n",
       "min     3000.000000     3.22000    7350.000000        9.1000   28699.000000   \n",
       "25%     3394.250000     3.73500   23062.500000       24.4525   89853.500000   \n",
       "50%     3793.000000     4.42000   53575.000000       52.0900  145978.500000   \n",
       "75%     6196.750000     6.19750  111600.000000      116.6075  167990.000000   \n",
       "max    14959.000000    14.96000  241600.000000      241.6000  396808.000000   \n",
       "\n",
       "          cost  Reliability      Latency  Availability  \n",
       "count  20.0000    20.000000    20.000000     20.000000  \n",
       "mean   14.2330     0.725000   808.050000      0.705450  \n",
       "std     9.5311     0.249832  1734.034161      0.244578  \n",
       "min     2.8700     0.220000    10.000000      0.170000  \n",
       "25%     8.9825     0.675000    38.500000      0.691250  \n",
       "50%    12.5850     0.870000    93.000000      0.795000  \n",
       "75%    15.2900     0.882500   281.250000      0.870000  \n",
       "max    39.6800     0.940000  7010.000000      0.950000  "
      ]
     },
     "execution_count": 2,
     "metadata": {},
     "output_type": "execute_result"
    }
   ],
   "source": [
    "data = pd.read_excel(\"scenario.xlsx\",sheet_name = 'second', index_col= False)\n",
    "data.describe()"
   ]
  },
  {
   "cell_type": "code",
   "execution_count": 3,
   "id": "75957755",
   "metadata": {},
   "outputs": [],
   "source": [
    "x = [5,20,50,100]\n",
    "x = np.asarray(x)\n",
    "y = data['TOTAL Network Usage']\n",
    "N =4\n",
    "ind = np.arange(N)  # the x locations for the groups\n",
    "width = 0.27       # the width of the bars"
   ]
  },
  {
   "cell_type": "code",
   "execution_count": 4,
   "id": "8a55b040",
   "metadata": {},
   "outputs": [
    {
     "data": {
      "image/png": "[encoded data removed]",
      "text/plain": [
       "<Figure size 640x480 with 1 Axes>"
      ]
     },
     "metadata": {},
     "output_type": "display_data"
    }
   ],
   "source": [
    "csfont = {'fontname':'Times New Roman'}\n",
    "\n",
    "ax = plt.subplot(111)\n",
    "ax.bar(ind-.07, y[:4], width=0.14, color='#264653', align='center')\n",
    "ax.bar(ind+.07, y[4:8], width=0.14, color='#2a9d8f', align='center')\n",
    "ax.bar(ind+.21, y[8:12], width=0.14, color='#e9c46a', align='center')\n",
    "ax.bar(ind+0.35, y[12:16], width=0.14, color='#f4a261', align='center')\n",
    "ax.bar(ind+0.49, y[16:], width=0.14, color='#A45C40', align='center')\n",
    "ax.set_xticks(ind+0.2)\n",
    "ax.set_xticklabels( ('5 Nodes', '20 Nodes', '50 Nodes', '100 Nodes'),**csfont)\n",
    "ax.set_ylabel(\"TOTAL Network Usage(kb)\",**csfont)\n",
    "ax.set_xlabel(\"Number of fog nodes\",**csfont)\n",
    "ax.legend(('Proposed method', 'Context', 'Full replica', 'One replica','BBO Replica'),title='Algoritms', loc='upper left', ncols=1,bbox_to_anchor=(1,1))\n",
    "for c in ax.containers:\n",
    "    # set the bar label\n",
    "    ax.bar_label(c, fmt='%.0f', label_type='edge',rotation=90,**csfont)\n",
    "\n",
    "\n",
    "ax.autoscale(tight=True)\n",
    "ax.set_title(\"Number of sensors =13\",**csfont)\n",
    "ax.margins(0, 0)\n",
    "# Get the y limits\n",
    "#ymin, ymax = min(y), max(y)\n",
    "\n",
    "# Set the y limits making the maximum 5% greater\n",
    "#plt.ylim(ymin, 1.005 * ymax)\n",
    "#y.plot(kind='line', marker='*', color='black', ms=.1)\n",
    "plt.savefig('second_TOTAL_Network_Usage.png', dpi=300, bbox_inches='tight') \n",
    "plt.show()"
   ]
  },
  {
   "cell_type": "code",
   "execution_count": 12,
   "id": "a1eb6200",
   "metadata": {},
   "outputs": [
    {
     "name": "stdout",
     "output_type": "stream",
     "text": [
      "<class 'numpy.ndarray'>\n"
     ]
    }
   ],
   "source": [
    "import datetime\n",
    "from matplotlib.dates import date2num\n",
    "x = [\n",
    "    datetime.datetime(2011, 1, 4, 0, 0),\n",
    "    datetime.datetime(2011, 1, 5, 0, 0),\n",
    "    datetime.datetime(2011, 1, 6, 0, 0)\n",
    "]\n",
    "x = date2num(x)\n",
    "print (type(x))"
   ]
  },
  {
   "cell_type": "code",
   "execution_count": 13,
   "id": "3112f82d",
   "metadata": {},
   "outputs": [
    {
     "name": "stdout",
     "output_type": "stream",
     "text": [
      "Index(['خوشه', 'سنسور', 'Fog node device', 'الگوریتم', 'old TNU',\n",
      "       'TOTAL Network Usage', 'oldAVR', 'AV Runtime', 'old TE', 'TOTAL Energy',\n",
      "       'old HC', ' Hardware Cost', 'Reliability', 'Latency', 'Availability',\n",
      "       'تعداد کپی'],\n",
      "      dtype='object')\n"
     ]
    }
   ],
   "source": [
    "print (data.columns)"
   ]
  },
  {
   "cell_type": "code",
   "execution_count": 7,
   "id": "cd8495f8",
   "metadata": {},
   "outputs": [
    {
     "name": "stdout",
     "output_type": "stream",
     "text": [
      "Requirement already satisfied: matplotlib in c:\\users\\my_home\\anaconda3\\lib\\site-packages (3.8.0)\n",
      "Requirement already satisfied: contourpy>=1.0.1 in c:\\users\\my_home\\anaconda3\\lib\\site-packages (from matplotlib) (1.2.0)\n",
      "Requirement already satisfied: cycler>=0.10 in c:\\users\\my_home\\anaconda3\\lib\\site-packages (from matplotlib) (0.11.0)\n",
      "Requirement already satisfied: fonttools>=4.22.0 in c:\\users\\my_home\\anaconda3\\lib\\site-packages (from matplotlib) (4.25.0)\n",
      "Requirement already satisfied: kiwisolver>=1.0.1 in c:\\users\\my_home\\anaconda3\\lib\\site-packages (from matplotlib) (1.4.4)\n",
      "Requirement already satisfied: numpy<2,>=1.21 in c:\\users\\my_home\\anaconda3\\lib\\site-packages (from matplotlib) (1.26.4)\n",
      "Requirement already satisfied: packaging>=20.0 in c:\\users\\my_home\\anaconda3\\lib\\site-packages (from matplotlib) (23.1)\n",
      "Requirement already satisfied: pillow>=6.2.0 in c:\\users\\my_home\\anaconda3\\lib\\site-packages (from matplotlib) (10.2.0)\n",
      "Requirement already satisfied: pyparsing>=2.3.1 in c:\\users\\my_home\\anaconda3\\lib\\site-packages (from matplotlib) (3.0.9)\n",
      "Requirement already satisfied: python-dateutil>=2.7 in c:\\users\\my_home\\anaconda3\\lib\\site-packages (from matplotlib) (2.8.2)\n",
      "Requirement already satisfied: six>=1.5 in c:\\users\\my_home\\anaconda3\\lib\\site-packages (from python-dateutil>=2.7->matplotlib) (1.16.0)\n"
     ]
    }
   ],
   "source": [
    "!pip install matplotlib"
   ]
  },
  {
   "cell_type": "code",
   "execution_count": 8,
   "id": "47079c68-a18c-4162-8bdb-c8a9de7c476f",
   "metadata": {},
   "outputs": [
    {
     "name": "stdout",
     "output_type": "stream",
     "text": [
      "Requirement already satisfied: numpy in c:\\users\\my_home\\anaconda3\\lib\\site-packages (1.26.4)\n"
     ]
    }
   ],
   "source": [
    "!pip install numpy"
   ]
  },
  {
   "cell_type": "code",
   "execution_count": null,
   "id": "94b6f9b0-1b7d-4399-91fd-68f5c350c5d4",
   "metadata": {},
   "outputs": [],
   "source": []
  }
 ],
 "metadata": {
  "kernelspec": {
   "display_name": "Python 3 (ipykernel)",
   "language": "python",
   "name": "python3"
  },
  "language_info": {
   "codemirror_mode": {
    "name": "ipython",
    "version": 3
   },
   "file_extension": ".py",
   "mimetype": "text/x-python",
   "name": "python",
   "nbconvert_exporter": "python",
   "pygments_lexer": "ipython3",
   "version": "3.11.7"
  }
 },
 "nbformat": 4,
 "nbformat_minor": 5
}
